{
 "cells": [
  {
   "cell_type": "code",
   "execution_count": 1,
   "metadata": {
    "collapsed": true
   },
   "outputs": [],
   "source": [
    "import hibike\n",
    "import time"
   ]
  },
  {
   "cell_type": "code",
   "execution_count": 2,
   "metadata": {
    "collapsed": false
   },
   "outputs": [],
   "source": [
    "h = hibike.Hibike()"
   ]
  },
  {
   "cell_type": "code",
   "execution_count": 3,
   "metadata": {
    "collapsed": false
   },
   "outputs": [
    {
     "name": "stdout",
     "output_type": "stream",
     "text": [
      "Hibike:\n",
      "  Ports:\n",
      "    /dev/ttyACM3\n",
      "    /dev/ttyACM1\n",
      "  Devices:\n",
      "    Device 23626414577360443280394: TeamFlag\n",
      "    subcription: 0ms @ 1448951609.641733\n",
      "    dataUpdate: 0 @ -1.000000\n",
      "    blue: 0 @ -1.000000\n",
      "    yellow: 0 @ -1.000000\n",
      "    s1: 0 @ -1.000000\n",
      "    s2: 0 @ -1.000000\n",
      "    s3: 0 @ -1.000000\n",
      "    s4: 0 @ -1.000000\n",
      "\n",
      "    Device 33074934739673310674605: ServoControl\n",
      "    subcription: 0ms @ 1448951609.643043\n",
      "    dataUpdate: 0 @ -1.000000\n",
      "    servo0: 0 @ -1.000000\n",
      "    servo1: 0 @ -1.000000\n",
      "    servo2: 0 @ -1.000000\n",
      "    servo3: 0 @ -1.000000\n",
      "\n",
      "\n"
     ]
    }
   ],
   "source": [
    "print h"
   ]
  },
  {
   "cell_type": "code",
   "execution_count": null,
   "metadata": {
    "collapsed": false
   },
   "outputs": [],
   "source": [
    "print h"
   ]
  },
  {
   "cell_type": "code",
   "execution_count": 4,
   "metadata": {
    "collapsed": false
   },
   "outputs": [
    {
     "name": "stdout",
     "output_type": "stream",
     "text": [
      "1448951647.81\n",
      "Hibike:\n",
      "  Ports:\n",
      "    /dev/ttyACM3\n",
      "    /dev/ttyACM1\n",
      "  Devices:\n",
      "    Device 23626414577360443280394: TeamFlag\n",
      "    subcription: 0ms @ 1448951644.682957\n",
      "    dataUpdate: 0 @ -1.000000\n",
      "    blue: 0 @ -1.000000\n",
      "    yellow: 0 @ -1.000000\n",
      "    s1: 0 @ 1448951647.809295\n",
      "    s2: 0 @ -1.000000\n",
      "    s3: 0 @ -1.000000\n",
      "    s4: 0 @ -1.000000\n",
      "\n",
      "    Device 33074934739673310674605: ServoControl\n",
      "    subcription: 0ms @ 1448951644.685203\n",
      "    dataUpdate: 0 @ -1.000000\n",
      "    servo0: 0 @ -1.000000\n",
      "    servo1: 0 @ -1.000000\n",
      "    servo2: 0 @ -1.000000\n",
      "    servo3: 0 @ -1.000000\n",
      "\n",
      "\n"
     ]
    }
   ],
   "source": [
    "x = time.time()\n",
    "h.writeValue(23626414577360443280394, \"s1\", 0)\n",
    "time.sleep(.1)\n",
    "print x\n",
    "print h"
   ]
  },
  {
   "cell_type": "code",
   "execution_count": 10,
   "metadata": {
    "collapsed": false
   },
   "outputs": [
    {
     "name": "stdout",
     "output_type": "stream",
     "text": [
      "1448951647.81\n"
     ]
    }
   ],
   "source": [
    "uid = 23626414577360443280394\n",
    "print h.context[uid].params[3][1]\n"
   ]
  },
  {
   "cell_type": "code",
   "execution_count": 11,
   "metadata": {
    "collapsed": true
   },
   "outputs": [],
   "source": [
    "def latency():\n",
    "    x = time.time()\n",
    "    h.writeValue(uid, \"s1\", 1)\n",
    "    while h.context[uid].params[3][1] < x:\n",
    "        pass\n",
    "    return h.context[uid].params[3][1] - x"
   ]
  },
  {
   "cell_type": "code",
   "execution_count": 18,
   "metadata": {
    "collapsed": false
   },
   "outputs": [
    {
     "data": {
      "text/plain": [
       "[0.007315874099731445,\n",
       " 0.15389800071716309,\n",
       " 0.04397106170654297,\n",
       " 0.26396918296813965,\n",
       " 0.17197489738464355,\n",
       " 0.08800697326660156,\n",
       " 0.06398797035217285,\n",
       " 0.09998083114624023,\n",
       " 0.08015894889831543,\n",
       " 0.12778306007385254,\n",
       " 0.14399981498718262,\n",
       " 0.13198590278625488,\n",
       " 0.0977621078491211,\n",
       " 0.15227508544921875,\n",
       " 0.11476302146911621,\n",
       " 0.124420166015625,\n",
       " 0.0035829544067382812,\n",
       " 0.0034279823303222656,\n",
       " 0.006083011627197266,\n",
       " 0.003534078598022461,\n",
       " 0.0028748512268066406,\n",
       " 0.00489497184753418,\n",
       " 0.014271974563598633,\n",
       " 0.005056858062744141,\n",
       " 0.0069200992584228516,\n",
       " 0.0083160400390625,\n",
       " 0.005441904067993164,\n",
       " 0.01306009292602539,\n",
       " 0.029104948043823242,\n",
       " 0.04216408729553223,\n",
       " 0.0034329891204833984,\n",
       " 0.0023398399353027344,\n",
       " 0.0035521984100341797,\n",
       " 0.003407001495361328,\n",
       " 0.002321004867553711,\n",
       " 0.0024328231811523438,\n",
       " 0.0023620128631591797,\n",
       " 0.0023598670959472656,\n",
       " 0.0023500919342041016,\n",
       " 0.002382040023803711,\n",
       " 0.0036780834197998047,\n",
       " 0.002498149871826172,\n",
       " 0.0024318695068359375,\n",
       " 0.0023889541625976562,\n",
       " 0.0023789405822753906,\n",
       " 0.003545045852661133,\n",
       " 0.0034630298614501953,\n",
       " 0.0023338794708251953,\n",
       " 0.002474069595336914,\n",
       " 0.0035419464111328125,\n",
       " 0.0023927688598632812,\n",
       " 0.0014591217041015625,\n",
       " 0.0024518966674804688,\n",
       " 0.0035600662231445312,\n",
       " 0.0035190582275390625,\n",
       " 0.028666973114013672,\n",
       " 0.037000179290771484,\n",
       " 0.030984878540039062,\n",
       " 0.03127884864807129,\n",
       " 0.003319978713989258,\n",
       " 0.003325939178466797,\n",
       " 0.0022630691528320312,\n",
       " 0.0033109188079833984,\n",
       " 0.003332853317260742,\n",
       " 0.0035059452056884766,\n",
       " 0.00335693359375,\n",
       " 0.003361940383911133,\n",
       " 0.003303050994873047,\n",
       " 0.0024139881134033203,\n",
       " 0.003319978713989258,\n",
       " 0.002290964126586914,\n",
       " 0.0032958984375,\n",
       " 0.0033309459686279297,\n",
       " 0.0025839805603027344,\n",
       " 0.002753019332885742,\n",
       " 0.003773212432861328,\n",
       " 0.002288818359375,\n",
       " 0.003340005874633789,\n",
       " 0.003945827484130859,\n",
       " 0.0036249160766601562,\n",
       " 0.003545999526977539,\n",
       " 0.030762910842895508,\n",
       " 0.032209157943725586,\n",
       " 0.01582789421081543,\n",
       " 0.030151844024658203,\n",
       " 0.03376317024230957,\n",
       " 0.007992029190063477,\n",
       " 0.04319405555725098,\n",
       " 0.0071620941162109375,\n",
       " 0.0023369789123535156,\n",
       " 0.035284996032714844,\n",
       " 0.06401515007019043,\n",
       " 0.06332015991210938,\n",
       " 0.0028488636016845703,\n",
       " 0.0062601566314697266,\n",
       " 0.0034301280975341797,\n",
       " 0.0026628971099853516,\n",
       " 0.0026650428771972656,\n",
       " 0.004925966262817383,\n",
       " 0.0030059814453125]"
      ]
     },
     "execution_count": 18,
     "metadata": {},
     "output_type": "execute_result"
    }
   ],
   "source": [
    "[latency() for _ in range(100)]"
   ]
  },
  {
   "cell_type": "code",
   "execution_count": 15,
   "metadata": {
    "collapsed": false
   },
   "outputs": [
    {
     "data": {
      "text/plain": [
       "(array([ 2.,  1.,  3.,  0.,  0.,  0.,  0.,  0.,  0.,  1.]),\n",
       " array([ 0.00390005,  0.00454545,  0.00519085,  0.00583625,  0.00648165,\n",
       "         0.00712705,  0.00777245,  0.00841784,  0.00906324,  0.00970864,\n",
       "         0.01035404]),\n",
       " <a list of 10 Patch objects>)"
      ]
     },
     "execution_count": 15,
     "metadata": {},
     "output_type": "execute_result"
    },
    {
     "data": {
      "image/png": "[encoded data removed]",
      "text/plain": [
       "<matplotlib.figure.Figure at 0x7fe5802f0d90>"
      ]
     },
     "metadata": {},
     "output_type": "display_data"
    }
   ],
   "source": [
    "import matplotlib\n",
    "from matplotlib import pyplot as plt\n",
    "%matplotlib inline\n",
    "latency_data = [latency() for _ in range(7)]\n",
    "plt.hist(latency_data)"
   ]
  }
 ],
 "metadata": {
  "kernelspec": {
   "display_name": "Python 2",
   "language": "python",
   "name": "python2"
  },
  "language_info": {
   "codemirror_mode": {
    "name": "ipython",
    "version": 2
   },
   "file_extension": ".py",
   "mimetype": "text/x-python",
   "name": "python",
   "nbconvert_exporter": "python",
   "pygments_lexer": "ipython2",
   "version": "2.7.6"
  }
 },
 "nbformat": 4,
 "nbformat_minor": 0
}
