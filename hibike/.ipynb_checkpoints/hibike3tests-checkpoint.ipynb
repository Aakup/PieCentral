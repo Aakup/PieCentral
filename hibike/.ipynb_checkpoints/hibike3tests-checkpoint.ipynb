{
 "cells": [
  {
   "cell_type": "code",
   "execution_count": 1,
   "metadata": {
    "collapsed": false
   },
   "outputs": [
    {
     "name": "stdout",
     "output_type": "stream",
     "text": [
      "1 0 \u0001\u0002\u0002\u0001\n",
      "2 0 \u0002\u0002\u0001\u0001\n",
      "1 0 \u0001\u0002\u0002\u0001\n",
      "2 0 \u0002\u0002\u0001\u0001\n",
      "2 0 \u0002\u0002\u0001\u0001\n"
     ]
    }
   ],
   "source": [
    "from hibike import Hibike\n",
    "from matplotlib import pyplot as plt\n",
    "import time\n",
    "import binascii\n",
    "from IPython import display\n",
    "h = Hibike()"
   ]
  },
  {
   "cell_type": "code",
   "execution_count": 2,
   "metadata": {
    "collapsed": false
   },
   "outputs": [
    {
     "data": {
      "text/plain": [
       "1"
      ]
     },
     "execution_count": 2,
     "metadata": {},
     "output_type": "execute_result"
    }
   ],
   "source": [
    "h.subToDevices([(uid, 10) for uid in h.getUIDs()])"
   ]
  },
  {
   "cell_type": "markdown",
   "metadata": {},
   "source": [
    "# Continuously print all devices"
   ]
  },
  {
   "cell_type": "code",
   "execution_count": 3,
   "metadata": {
    "collapsed": false
   },
   "outputs": [
    {
     "name": "stdout",
     "output_type": "stream",
     "text": [
      "Hibike:\n",
      "  Ports:\n",
      "    /dev/ttyACM2\n",
      "    /dev/ttyACM5\n",
      "    /dev/ttyACM4\n",
      "  Devices:\n",
      "    Device 33074934739673310674687: ServoControl\n",
      "    subcription: 10ms @ 1449121968.099939\n",
      "    dataUpdate: 01 @ 1449121968.120547\n",
      "    servo0: 0 @ -1.000000\n",
      "    servo1: 0 @ -1.000000\n",
      "    servo2: 0 @ -1.000000\n",
      "    servo3: 0 @ -1.000000\n",
      "\n",
      "    Device 18369358417563074221: LimitSwitch\n",
      "    subcription: 10ms @ 1449121968.100027\n",
      "    dataUpdate: 01 @ 1449121968.119387\n",
      "\n",
      "    Device 13758425323549998831: LimitSwitch\n",
      "    subcription: 10ms @ 1449121968.099987\n",
      "    dataUpdate: 01 @ 1449121968.120522\n",
      "\n",
      "\n"
     ]
    }
   ],
   "source": [
    "print h"
   ]
  },
  {
   "cell_type": "code",
   "execution_count": null,
   "metadata": {
    "collapsed": false
   },
   "outputs": [],
   "source": [
    "from IPython import display\n",
    "last = ''\n",
    "while 1:\n",
    "    if str(h) != last:\n",
    "        last = str(h)\n",
    "        display.clear_output(wait=True)\n",
    "        display.display(last)\n",
    "    time.sleep(.001)\n"
   ]
  },
  {
   "cell_type": "markdown",
   "metadata": {},
   "source": [
    "# Plotting stuff"
   ]
  },
  {
   "cell_type": "code",
   "execution_count": null,
   "metadata": {
    "collapsed": false
   },
   "outputs": [],
   "source": [
    "%matplotlib inline\n",
    "c.log = ([], [], [])\n",
    "time.sleep(1)\n",
    "c.log[2][0]=2\n",
    "from IPython import display\n",
    "while 1:\n",
    "    plt.subplot(221)\n",
    "    plt.plot(c.log[0], c.log[1])\n",
    "    plt.subplot(222)\n",
    "    plt.plot(c.log[0], c.log[2])\n",
    "    display.clear_output(wait=True)\n",
    "    display.display(plt.gcf())\n",
    "    display.display(binascii.hexlify(device.getParam(\"dataUpdate\")))\n",
    "    #time.sleep(1)"
   ]
  },
  {
   "cell_type": "code",
   "execution_count": null,
   "metadata": {
    "collapsed": false
   },
   "outputs": [],
   "source": [
    "%matplotlib inline\n",
    "#c.log = ([], [], [])\n",
    "x = 1\n",
    "time.sleep(.5)\n",
    "for i in range(1, 100000):\n",
    "    x *= i\n",
    "time.sleep(.5)\n",
    "plt.plot(c.log[0], c.log[1])\n",
    "plt.title(\"data updates read vs time\")\n",
    "print \"Computation seems to block the hibike thread from reading packets\""
   ]
  },
  {
   "cell_type": "code",
   "execution_count": 4,
   "metadata": {
    "collapsed": true
   },
   "outputs": [],
   "source": [
    "def test_latency(uid, param):\n",
    "    start = time.time()\n",
    "    h.writeValue(uid, param, 0)\n",
    "    while h.context[uid].params[param][1] < start:\n",
    "        pass\n",
    "    return h.context[uid].params[param][1] - start"
   ]
  },
  {
   "cell_type": "code",
   "execution_count": 5,
   "metadata": {
    "collapsed": false
   },
   "outputs": [
    {
     "data": {
      "text/plain": [
       "-2.5987625122070312e-05"
      ]
     },
     "execution_count": 5,
     "metadata": {},
     "output_type": "execute_result"
    }
   ],
   "source": [
    "test_latency(33074934739673310674687, 1)"
   ]
  }
 ],
 "metadata": {
  "kernelspec": {
   "display_name": "Python 2",
   "language": "python",
   "name": "python2"
  },
  "language_info": {
   "codemirror_mode": {
    "name": "ipython",
    "version": 2
   },
   "file_extension": ".py",
   "mimetype": "text/x-python",
   "name": "python",
   "nbconvert_exporter": "python",
   "pygments_lexer": "ipython2",
   "version": "2.7.6"
  }
 },
 "nbformat": 4,
 "nbformat_minor": 0
}
