{
 "cells": [
  {
   "cell_type": "code",
   "execution_count": 1,
   "metadata": {
    "collapsed": false
   },
   "outputs": [],
   "source": [
    "from hibike import Hibike\n",
    "from deviceContext import DeviceContext\n",
    "c = DeviceContext()\n",
    "h = Hibike(c)"
   ]
  },
  {
   "cell_type": "code",
   "execution_count": 2,
   "metadata": {
    "collapsed": false
   },
   "outputs": [
    {
     "name": "stdout",
     "output_type": "stream",
     "text": [
      "Device 4723678366196274085615: LineFollower\n",
      "    subcription: 0ms @ -1\n",
      "    dataUpdate: 0 @ -1\n",
      "\n"
     ]
    }
   ],
   "source": [
    "print h.context.devices[4723678366196274085615L]"
   ]
  },
  {
   "cell_type": "code",
   "execution_count": 3,
   "metadata": {
    "collapsed": false
   },
   "outputs": [
    {
     "name": "stdout",
     "output_type": "stream",
     "text": [
      "Device 4723678366196274085615: LineFollower\n",
      "    subcription: 0ms @ -1\n",
      "    dataUpdate: 0 @ -1\n",
      "\n"
     ]
    }
   ],
   "source": [
    "device = c.devices.values()[0]\n",
    "print device\n"
   ]
  },
  {
   "cell_type": "code",
   "execution_count": 4,
   "metadata": {
    "collapsed": false
   },
   "outputs": [],
   "source": [
    "c.subToDevice(device.uid, 500)"
   ]
  },
  {
   "cell_type": "code",
   "execution_count": 5,
   "metadata": {
    "collapsed": false
   },
   "outputs": [
    {
     "name": "stdout",
     "output_type": "stream",
     "text": [
      "Device 4723678366196274085615: LineFollower\n",
      "    subcription: 500ms @ 1447549706\n",
      "    dataUpdate: \u0001 @ 1447549706\n",
      "\n"
     ]
    }
   ],
   "source": [
    "print device"
   ]
  },
  {
   "cell_type": "code",
   "execution_count": 22,
   "metadata": {
    "collapsed": false
   },
   "outputs": [
    {
     "name": "stdout",
     "output_type": "stream",
     "text": [
      "<type 'str'>\n"
     ]
    }
   ],
   "source": [
    "import binascii\n",
    "x = device.getParam(\"dataUpdate\")\n",
    "print type(binascii.hexlify(x))"
   ]
  },
  {
   "cell_type": "code",
   "execution_count": 21,
   "metadata": {
    "collapsed": false
   },
   "outputs": [
    {
     "name": "stdout",
     "output_type": "stream",
     "text": [
      "Device 4723678366196274085615: LineFollower\n",
      "    subcription: 500ms @ 1447549706\n",
      "    dataUpdate: \u0001 @ 1447549879\n",
      "\n"
     ]
    }
   ],
   "source": [
    "print device"
   ]
  }
 ],
 "metadata": {
  "kernelspec": {
   "display_name": "Python 2",
   "language": "python",
   "name": "python2"
  },
  "language_info": {
   "codemirror_mode": {
    "name": "ipython",
    "version": 2
   },
   "file_extension": ".py",
   "mimetype": "text/x-python",
   "name": "python",
   "nbconvert_exporter": "python",
   "pygments_lexer": "ipython2",
   "version": "2.7.6"
  }
 },
 "nbformat": 4,
 "nbformat_minor": 0
}
