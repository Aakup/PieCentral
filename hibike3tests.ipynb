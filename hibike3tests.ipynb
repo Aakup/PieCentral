{
 "cells": [
  {
   "cell_type": "code",
   "execution_count": 1,
   "metadata": {
    "collapsed": false
   },
   "outputs": [],
   "source": [
    "from hibike import Hibike\n",
    "from matplotlib import pyplot as plt\n",
    "import time\n",
    "import binascii\n",
    "from IPython import display\n",
    "h = Hibike()"
   ]
  },
  {
   "cell_type": "code",
   "execution_count": null,
   "metadata": {
    "collapsed": false
   },
   "outputs": [],
   "source": [
    "h.subToDevices([(uid, 10) for uid in h.getUIDs()])"
   ]
  },
  {
   "cell_type": "markdown",
   "metadata": {},
   "source": [
    "# Continuously print all devices"
   ]
  },
  {
   "cell_type": "code",
   "execution_count": 35,
   "metadata": {
    "collapsed": false
   },
   "outputs": [
    {
     "name": "stdout",
     "output_type": "stream",
     "text": [
      "Hibike:\n",
      "  Ports:\n",
      "    /dev/ttyACM2\n",
      "    /dev/ttyACM1\n",
      "    /dev/ttyACM0\n",
      "  Devices:\n",
      "    Device 33074934739673310674687: ServoControl\n",
      "    subcription: 0ms @ 1449124229.773702\n",
      "    dataUpdate: 01 @ 1449123025.459354\n",
      "    servo0: 0 @ 1449124112.645403\n",
      "    servo1: 0 @ -1.000000\n",
      "    servo2: 0 @ -1.000000\n",
      "    servo3: 0 @ -1.000000\n",
      "\n",
      "    Device 18369358417563074221: LimitSwitch\n",
      "    subcription: 0ms @ 1449124229.774909\n",
      "    dataUpdate: 01 @ 1449123025.459312\n",
      "\n",
      "    Device 13758425323549998831: LimitSwitch\n",
      "    subcription: 0ms @ 1449124229.773608\n",
      "    dataUpdate: 01 @ 1449123025.467509\n",
      "\n",
      "\n"
     ]
    }
   ],
   "source": [
    "print h"
   ]
  },
  {
   "cell_type": "code",
   "execution_count": null,
   "metadata": {
    "collapsed": false
   },
   "outputs": [],
   "source": [
    "from IPython import display\n",
    "last = ''\n",
    "while 1:\n",
    "    if str(h) != last:\n",
    "        last = str(h)\n",
    "        display.clear_output(wait=True)\n",
    "        display.display(last)\n",
    "    time.sleep(.001)\n"
   ]
  },
  {
   "cell_type": "markdown",
   "metadata": {},
   "source": [
    "# Plotting stuff"
   ]
  },
  {
   "cell_type": "code",
   "execution_count": null,
   "metadata": {
    "collapsed": false
   },
   "outputs": [],
   "source": [
    "%matplotlib inline\n",
    "c.log = ([], [], [])\n",
    "time.sleep(1)\n",
    "c.log[2][0]=2\n",
    "from IPython import display\n",
    "while 1:\n",
    "    plt.subplot(221)\n",
    "    plt.plot(c.log[0], c.log[1])\n",
    "    plt.subplot(222)\n",
    "    plt.plot(c.log[0], c.log[2])\n",
    "    display.clear_output(wait=True)\n",
    "    display.display(plt.gcf())\n",
    "    display.display(binascii.hexlify(device.getParam(\"dataUpdate\")))\n",
    "    #time.sleep(1)"
   ]
  },
  {
   "cell_type": "code",
   "execution_count": null,
   "metadata": {
    "collapsed": false
   },
   "outputs": [],
   "source": [
    "%matplotlib inline\n",
    "#c.log = ([], [], [])\n",
    "x = 1\n",
    "time.sleep(.5)\n",
    "for i in range(1, 100000):\n",
    "    x *= i\n",
    "time.sleep(.5)\n",
    "plt.plot(c.log[0], c.log[1])\n",
    "plt.title(\"data updates read vs time\")\n",
    "print \"Computation seems to block the hibike thread from reading packets\""
   ]
  },
  {
   "cell_type": "code",
   "execution_count": 9,
   "metadata": {
    "collapsed": true
   },
   "outputs": [],
   "source": [
    "def test_latency(uid, param):\n",
    "    start = time.time()\n",
    "    h.writeValue(uid, param, 0)\n",
    "    while h.context[uid].params[param][1] < start:\n",
    "        pass\n",
    "    return h.context[uid].params[param][1] - start"
   ]
  },
  {
   "cell_type": "code",
   "execution_count": 24,
   "metadata": {
    "collapsed": false
   },
   "outputs": [],
   "source": [
    "latency2 = [test_latency(33074934739673310674687, 1) for _ in range(100)]\n"
   ]
  },
  {
   "cell_type": "code",
   "execution_count": 26,
   "metadata": {
    "collapsed": true
   },
   "outputs": [],
   "source": [
    "latencies = []"
   ]
  },
  {
   "cell_type": "code",
   "execution_count": 29,
   "metadata": {
    "collapsed": false
   },
   "outputs": [
    {
     "ename": "KeyboardInterrupt",
     "evalue": "",
     "output_type": "error",
     "traceback": [
      "\u001b[1;31m---------------------------------------------------------------------------\u001b[0m",
      "\u001b[1;31mKeyboardInterrupt\u001b[0m                         Traceback (most recent call last)",
      "\u001b[1;32m<ipython-input-29-67e383ac3263>\u001b[0m in \u001b[0;36m<module>\u001b[1;34m()\u001b[0m\n\u001b[0;32m      1\u001b[0m \u001b[1;32mwhile\u001b[0m \u001b[1;36m1\u001b[0m\u001b[1;33m:\u001b[0m\u001b[1;33m\u001b[0m\u001b[0m\n\u001b[1;32m----> 2\u001b[1;33m     \u001b[0mlatencies\u001b[0m\u001b[1;33m.\u001b[0m\u001b[0mappend\u001b[0m\u001b[1;33m(\u001b[0m\u001b[0mtest_latency\u001b[0m\u001b[1;33m(\u001b[0m\u001b[1;36m33074934739673310674687\u001b[0m\u001b[1;33m,\u001b[0m \u001b[1;36m1\u001b[0m\u001b[1;33m)\u001b[0m\u001b[1;33m)\u001b[0m\u001b[1;33m\u001b[0m\u001b[0m\n\u001b[0m",
      "\u001b[1;32m<ipython-input-9-bd62f52b2171>\u001b[0m in \u001b[0;36mtest_latency\u001b[1;34m(uid, param)\u001b[0m\n\u001b[0;32m      2\u001b[0m     \u001b[0mstart\u001b[0m \u001b[1;33m=\u001b[0m \u001b[0mtime\u001b[0m\u001b[1;33m.\u001b[0m\u001b[0mtime\u001b[0m\u001b[1;33m(\u001b[0m\u001b[1;33m)\u001b[0m\u001b[1;33m\u001b[0m\u001b[0m\n\u001b[0;32m      3\u001b[0m     \u001b[0mh\u001b[0m\u001b[1;33m.\u001b[0m\u001b[0mwriteValue\u001b[0m\u001b[1;33m(\u001b[0m\u001b[0muid\u001b[0m\u001b[1;33m,\u001b[0m \u001b[0mparam\u001b[0m\u001b[1;33m,\u001b[0m \u001b[1;36m0\u001b[0m\u001b[1;33m)\u001b[0m\u001b[1;33m\u001b[0m\u001b[0m\n\u001b[1;32m----> 4\u001b[1;33m     \u001b[1;32mwhile\u001b[0m \u001b[0mh\u001b[0m\u001b[1;33m.\u001b[0m\u001b[0mcontext\u001b[0m\u001b[1;33m[\u001b[0m\u001b[0muid\u001b[0m\u001b[1;33m]\u001b[0m\u001b[1;33m.\u001b[0m\u001b[0mparams\u001b[0m\u001b[1;33m[\u001b[0m\u001b[0mparam\u001b[0m\u001b[1;33m]\u001b[0m\u001b[1;33m[\u001b[0m\u001b[1;36m1\u001b[0m\u001b[1;33m]\u001b[0m \u001b[1;33m<\u001b[0m \u001b[0mstart\u001b[0m\u001b[1;33m:\u001b[0m\u001b[1;33m\u001b[0m\u001b[0m\n\u001b[0m\u001b[0;32m      5\u001b[0m         \u001b[1;32mpass\u001b[0m\u001b[1;33m\u001b[0m\u001b[0m\n\u001b[0;32m      6\u001b[0m     \u001b[1;32mreturn\u001b[0m \u001b[0mh\u001b[0m\u001b[1;33m.\u001b[0m\u001b[0mcontext\u001b[0m\u001b[1;33m[\u001b[0m\u001b[0muid\u001b[0m\u001b[1;33m]\u001b[0m\u001b[1;33m.\u001b[0m\u001b[0mparams\u001b[0m\u001b[1;33m[\u001b[0m\u001b[0mparam\u001b[0m\u001b[1;33m]\u001b[0m\u001b[1;33m[\u001b[0m\u001b[1;36m1\u001b[0m\u001b[1;33m]\u001b[0m \u001b[1;33m-\u001b[0m \u001b[0mstart\u001b[0m\u001b[1;33m\u001b[0m\u001b[0m\n",
      "\u001b[1;31mKeyboardInterrupt\u001b[0m: "
     ]
    }
   ],
   "source": [
    "while 1:\n",
    "    latencies.append(test_latency(33074934739673310674687, 1))"
   ]
  },
  {
   "cell_type": "code",
   "execution_count": 32,
   "metadata": {
    "collapsed": false
   },
   "outputs": [
    {
     "data": {
      "text/plain": [
       "(array([ 29.,  33.,  36.,  36.,  37.,  29.,  39.,  20.,  33.,  21.,  22.,\n",
       "         27.,  17.,   9.,  12.,  17.,  11.,  11.,   9.,  10.,   6.,   7.,\n",
       "          4.,   9.,   8.,   9.,   1.,   7.,   4.,   2.,   3.,   2.,   1.,\n",
       "          3.,   2.,   2.,   0.,   0.,   4.,   0.,   0.,   1.,   0.,   1.,\n",
       "          1.,   0.,   1.,   1.,   1.,   0.,   5.,   3.,   0.,   0.,   0.,\n",
       "          0.,   0.,   1.,   0.,   0.,   0.,   0.,   0.,   0.,   0.,   1.,\n",
       "          0.,   1.,   0.,   0.,   0.,   0.,   1.,   0.,   0.,   0.,   0.,\n",
       "          0.,   0.,   0.,   0.,   0.,   0.,   0.,   0.,   0.,   0.,   0.,\n",
       "          0.,   0.,   0.,   0.,   0.,   0.,   0.,   0.,   0.,   0.,   0.,\n",
       "          1.]),\n",
       " array([ 0.00254202,  0.00447628,  0.00641054,  0.0083448 ,  0.01027905,\n",
       "         0.01221331,  0.01414757,  0.01608183,  0.01801609,  0.01995035,\n",
       "         0.02188461,  0.02381887,  0.02575313,  0.02768739,  0.02962164,\n",
       "         0.0315559 ,  0.03349016,  0.03542442,  0.03735868,  0.03929294,\n",
       "         0.0412272 ,  0.04316146,  0.04509572,  0.04702997,  0.04896423,\n",
       "         0.05089849,  0.05283275,  0.05476701,  0.05670127,  0.05863553,\n",
       "         0.06056979,  0.06250405,  0.0644383 ,  0.06637256,  0.06830682,\n",
       "         0.07024108,  0.07217534,  0.0741096 ,  0.07604386,  0.07797812,\n",
       "         0.07991238,  0.08184664,  0.08378089,  0.08571515,  0.08764941,\n",
       "         0.08958367,  0.09151793,  0.09345219,  0.09538645,  0.09732071,\n",
       "         0.09925497,  0.10118922,  0.10312348,  0.10505774,  0.106992  ,\n",
       "         0.10892626,  0.11086052,  0.11279478,  0.11472904,  0.1166633 ,\n",
       "         0.11859756,  0.12053181,  0.12246607,  0.12440033,  0.12633459,\n",
       "         0.12826885,  0.13020311,  0.13213737,  0.13407163,  0.13600589,\n",
       "         0.13794014,  0.1398744 ,  0.14180866,  0.14374292,  0.14567718,\n",
       "         0.14761144,  0.1495457 ,  0.15147996,  0.15341422,  0.15534847,\n",
       "         0.15728273,  0.15921699,  0.16115125,  0.16308551,  0.16501977,\n",
       "         0.16695403,  0.16888829,  0.17082255,  0.17275681,  0.17469106,\n",
       "         0.17662532,  0.17855958,  0.18049384,  0.1824281 ,  0.18436236,\n",
       "         0.18629662,  0.18823088,  0.19016514,  0.19209939,  0.19403365,\n",
       "         0.19596791]),\n",
       " <a list of 100 Patch objects>)"
      ]
     },
     "execution_count": 32,
     "metadata": {},
     "output_type": "execute_result"
    },
    {
     "data": {
      "image/png": "[encoded data removed]",
      "text/plain": [
       "<matplotlib.figure.Figure at 0x7fd9f60d3410>"
      ]
     },
     "metadata": {},
     "output_type": "display_data"
    }
   ],
   "source": [
    "%matplotlib inline\n",
    "plt.hist(latencies, 100)"
   ]
  },
  {
   "cell_type": "code",
   "execution_count": null,
   "metadata": {
    "collapsed": true
   },
   "outputs": [],
   "source": []
  }
 ],
 "metadata": {
  "kernelspec": {
   "display_name": "Python 2",
   "language": "python",
   "name": "python2"
  },
  "language_info": {
   "codemirror_mode": {
    "name": "ipython",
    "version": 2
   },
   "file_extension": ".py",
   "mimetype": "text/x-python",
   "name": "python",
   "nbconvert_exporter": "python",
   "pygments_lexer": "ipython2",
   "version": "2.7.6"
  }
 },
 "nbformat": 4,
 "nbformat_minor": 0
}
